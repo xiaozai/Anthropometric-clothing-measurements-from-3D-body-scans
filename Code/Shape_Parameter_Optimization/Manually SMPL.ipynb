{
 "cells": [
  {
   "cell_type": "code",
   "execution_count": 1,
   "metadata": {},
   "outputs": [
    {
     "name": "stdout",
     "output_type": "stream",
     "text": [
      "(10,)\n",
      "(72,)\n"
     ]
    }
   ],
   "source": [
    "import pickle\n",
    "\n",
    "# pre-process initial params from NonRigid ICP registration results\n",
    "param_folder = '/home/yan/Data2/3D_Body_Reconstruction/Dataset/scans/Optimized_Registered_NOMO3D_Dataset1/Original_A_Posed/parameter_male/'\n",
    "param_file = param_folder + 'male_0024.pkl'\n",
    "\n",
    "with open(param_file, 'rb') as f:\n",
    "    param_data = pickle.load(f)\n",
    "\n",
    "init_betas = param_data[72:]\n",
    "print init_betas.shape\n",
    "init_pose = param_data[:72]  # in radian\n",
    "print init_pose.shape"
   ]
  },
  {
   "cell_type": "code",
   "execution_count": 2,
   "metadata": {},
   "outputs": [
    {
     "name": "stdout",
     "output_type": "stream",
     "text": [
      "Zero SMPL Loaded\n"
     ]
    }
   ],
   "source": [
    "## SMPL model\n",
    "root_folder = '/home/yan/Data2/NOMO_Project_Summary/MVA/MVA_rebuttal_code/Shape_Parameter_Optimization/'\n",
    "\n",
    "import sys\n",
    "sys.path.append(root_folder+'SMPL/SMPL_python_v.1.0.0/smpl/')\n",
    "from smpl_webuser.serialization import load_model\n",
    "import numpy as np\n",
    "import math\n",
    "from scipy.sparse import csc_matrix\n",
    "\n",
    "\n",
    "smpl_male_model = root_folder + 'SMPL/SMPL_python_v.1.0.0/smpl/models/basicModel_m_lbs_10_207_0_v1.0.0.pkl'\n",
    "model = load_model(smpl_male_model)\n",
    "# zeros pose\n",
    "model.pose[:] = np.zeros(72)\n",
    "model.betas[:] = np.zeros(10)\n",
    "\n",
    "print \"Zero SMPL Loaded\"\n",
    "#-----------------------------------------------------------------------------------------\n",
    "Faces = model.f + 1              # faces, => .obj starts from index 1\n",
    "T0 = model.r                     # vertices for zero pose + zeros shape, N x 3 => (6890,3)\n",
    "W = model.weights                # a set of blend weights W,   N x K => (6890, 24)\n",
    "Bs = model.shapedirs             # Shape blend shapes # (6890, 3, 10)\n",
    "Bp = model.posedirs              # Pose blend shapes  # (6890, 3, 207)\n",
    "tree_table = model.kintree_table # Joints Tree, \n",
    "J_regressor = model.J_regressor  # 24 * 6890, a function to predict K joint location\n",
    "J_regressor = csc_matrix(J_regressor, dtype=np.float64).toarray()"
   ]
  },
  {
   "cell_type": "code",
   "execution_count": 3,
   "metadata": {},
   "outputs": [],
   "source": [
    "# 0 is the root, K = 23\n",
    "def findAncestor(kk):\n",
    "    ancestorSet = []\n",
    "    parent = tree_table[0, kk]\n",
    "    while parent < 24:\n",
    "        ancestorSet.append(parent)\n",
    "        parent = tree_table[0, parent]\n",
    "        \n",
    "    return np.array(ancestorSet)\n",
    "\n",
    "# find Joints Locations, betas => (10,)\n",
    "def getJoints(betas):\n",
    "    cur_betas = np.expand_dims(betas, axis=1)       # (10, 1)\n",
    "    shape_replacement = np.matmul(Bs, cur_betas)    # (6890, 3, 1)\n",
    "    shape_replacement = shape_replacement[:, :, 0]  # (6890, 3)\n",
    "    transformedV = T0 + shape_replacement           # (6890, 3)\n",
    "    Joints = np.matmul(J_regressor, transformedV)   # (24, 3)\n",
    "    return Joints\n",
    "\n",
    "# R = 23 * 9 = 207, relative rotation matrices\n",
    "def getRotationMatrix(theta):\n",
    "    R = []\n",
    "    for w in theta:\n",
    "        w_norm = np.linalg.norm(w)\n",
    "        if w_norm == 0:\n",
    "            w_mean = w\n",
    "        else:\n",
    "            w_mean = w / w_norm\n",
    "        skew_sym_w = skew_sym_matrix(w_mean)\n",
    "        I = np.identity(3)\n",
    "        exp_w = I + skew_sym_w * math.sin(w_norm) + np.linalg.matrix_power(skew_sym_w, 2) * math.cos(w_norm)\n",
    "        exp_w = np.reshape(exp_w, (9,))\n",
    "        R.append(exp_w[0, :])\n",
    "    R = np.reshape(R, (207, 1))\n",
    "    return R\n",
    "\n",
    "# return the skew symmetric matrix of the 3-vector w\n",
    "def skew_sym_matrix(w):\n",
    "    skew_sym_w = np.zeros((3,3))\n",
    "    skew_sym_w[0, 1] = -w[2]\n",
    "    skew_sym_w[0, 2] = w[1]\n",
    "    skew_sym_w[1, 0] = w[2]\n",
    "    skew_sym_w[1, 2] = -w[0]\n",
    "    skew_sym_w[2, 0] = -w[1]\n",
    "    skew_sym_w[2, 1] = w[0]\n",
    "    \n",
    "    return np.matrix(skew_sym_w)\n",
    "\n",
    "# seems there are some problems with vector norm\n",
    "def GkMatrix(theta, J, k):\n",
    "    GK = np.identity(4)\n",
    "    Ak = findAncestor(k) # the ordered set of joint ancestors of joint k\n",
    "    for j in Ak:\n",
    "        J_j = J[j, :]\n",
    "        w_j = theta[j, :]\n",
    "        w_j_norm = np.linalg.norm(w_j)\n",
    "        if w_j_norm == 0:\n",
    "            w_j_mean = w_j # the unit norm axis of rotation\n",
    "        else:\n",
    "            w_j_mean = w_j / w_j_norm # the unit norm axis of rotation\n",
    "            \n",
    "        skew_sym_w_j = skew_sym_matrix(w_j_mean)\n",
    "        \n",
    "        # rotation matrix using the Rodrigues formula\n",
    "        I = np.identity(3)\n",
    "        exp_w_j = I + skew_sym_w_j * math.sin(w_j_norm) + np.linalg.matrix_power(skew_sym_w_j, 2) * math.cos(w_j_norm)\n",
    "        \n",
    "        # production\n",
    "        item = np.zeros((4,4))\n",
    "        item[0:3, 0:3] = exp_w_j\n",
    "        item[0:3, 3] = np.transpose(J_j)\n",
    "        item[3, 3] = 1\n",
    "        \n",
    "        GK = np.matmul(GK, item)\n",
    "        \n",
    "    return GK"
   ]
  },
  {
   "cell_type": "code",
   "execution_count": 4,
   "metadata": {},
   "outputs": [],
   "source": [
    "# G matrix\n",
    "theta = np.reshape(init_pose, (24,3))  # in radian\n",
    "theta_star = np.reshape(np.zeros(72), (24, 3))  # for the rest pose (zero-pose)\n",
    "\n",
    "# calculate the Joints locations\n",
    "cur_betas = init_betas\n",
    "Joints = getJoints(cur_betas)\n",
    "\n",
    "# Shape blend shape\n",
    "BS_replacement = np.matmul(Bs, cur_betas)\n",
    "\n",
    "# relative rotation matrices\n",
    "R_theta = getRotationMatrix(theta[1:, :])  # except the root\n",
    "R_theta_star = getRotationMatrix(theta_star[1:, :])\n",
    "# R = R_theta - R_theta_star\n",
    "\n",
    "# Pose blend shape replacement \n",
    "# BP_replacement = np.matmul(Bp, R)\n",
    "# BP_replacement = BP_replacement[:, :, 0]\n",
    "BP_replacement = np.zeros((6890, 3))\n",
    "for n in range(207):\n",
    "    BP_replacement = BP_replacement + (R_theta[n] - R_theta_star[n]) * Bp[:, :, n]"
   ]
  },
  {
   "cell_type": "code",
   "execution_count": 5,
   "metadata": {},
   "outputs": [],
   "source": [
    "# Transformed Vertices\n",
    "T_ = T0 + BS_replacement + BP_replacement\n",
    "T_transformed = np.zeros((6890, 4)) # [x, y, z, w]\n",
    "\n",
    "K = 24\n",
    "for i in range(6890):\n",
    "    t_i = np.reshape(np.array([T_[i, 0], T_[i, 1], T_[i, 2], 1]), (4,1)) # [x, y, z, w]\n",
    "    t_i = t_i.astype(float)\n",
    "    t_transformed = np.reshape(T_transformed[i, :], (4,1))\n",
    "    \n",
    "    for k in range(K):\n",
    "        GK = GkMatrix(theta, Joints, k)\n",
    "        GK_star = GkMatrix(theta_star, Joints, k)\n",
    "        GK_prime = np.matmul(GK, np.linalg.inv(GK_star))\n",
    "        t_transformed = t_transformed + W[i, k] * np.matmul(GK_prime, t_i) # (4,1)\n",
    "        \n",
    "    T_transformed[i, :] = np.reshape(t_transformed, (4,))"
   ]
  },
  {
   "cell_type": "code",
   "execution_count": 6,
   "metadata": {},
   "outputs": [
    {
     "name": "stdout",
     "output_type": "stream",
     "text": [
      "[[ 0.03626883  0.32942891 -0.05727708  1.        ]\n",
      " [ 0.04137275  0.3338191  -0.06056139  1.        ]]\n"
     ]
    }
   ],
   "source": [
    "print T_transformed[1:3, :]"
   ]
  },
  {
   "cell_type": "code",
   "execution_count": 7,
   "metadata": {},
   "outputs": [
    {
     "name": "stdout",
     "output_type": "stream",
     "text": [
      "done\n"
     ]
    }
   ],
   "source": [
    "V = T_transformed[:, 0:3]\n",
    "\n",
    "with open( 'manually_mesh.obj', 'w') as fp:\n",
    "    for v in V: # [m]\n",
    "        fp.write( 'v %f %f %f\\n' % ( v[0], v[1], v[2]) )\n",
    "    for f in Faces: # Faces are 1-based, not 0-based in obj files\n",
    "        fp.write( 'f %d %d %d\\n' %  (f[0], f[1], f[2]) )\n",
    "        \n",
    "print 'done'"
   ]
  },
  {
   "cell_type": "code",
   "execution_count": 8,
   "metadata": {},
   "outputs": [],
   "source": [
    "# model.betas[:] = init_betas\n",
    "\n",
    "# deg2rad = 1.0 / 180 * math.pi\n",
    "# model.pose[48:60] = np.multiply(deg2rad, [-12, 2, -69, -12,-2, 69, 16, -18, 4, 16, 18, -4])\n",
    "# model.pose[3:18] = np.multiply(deg2rad, [1, 0, 9, 1, 0, -8, 4, 4, 0, -3, -2, -2, -3, 2, 2])"
   ]
  },
  {
   "cell_type": "code",
   "execution_count": 9,
   "metadata": {},
   "outputs": [],
   "source": [
    "# def minDist(shape_beta):\n",
    "# kdtree_t = scipy.spatial.cKDTree(targetV, leafsize=6890)\n",
    "\n",
    "# def minDist(shape_pose):\n",
    "#     model.betas[:] = shape_pose\n",
    "# #     model.betas[:] = shape_pose[27:]\n",
    "#     print model.betas[:]\n",
    "# #     model.pose[48:60] = shape_pose[:12]\n",
    "# #     model.pose[3:18] = shape_pose[12:27]\n",
    "    \n",
    "#     modelV = model.r\n",
    "#     modelV = modelV - np.mean(modelV, 0)\n",
    "# #     minY = np.min(modelV, 0)[1]\n",
    "# #     modelV = modelV - [0, minY, 0]\n",
    "\n",
    "#     # KNN searching for the nearest correspondence on Target\n",
    "#     # from model to target\n",
    "#     kdtree_t = scipy.spatial.cKDTree(targetV, leafsize=6890)\n",
    "#     dist_t, t_idx = kdtree_t.query(modelV, k=1)\n",
    "#     # from target to model\n",
    "#     kdtree_m = scipy.spatial.cKDTree(modelV, leafsize=6890)\n",
    "#     dist_m, m_idx = kdtree_m.query(targetV, k=1)\n",
    "    \n",
    "# #     dist = (np.mean(dist_t) + np.mean(dist_m))/2 * 1000\n",
    "#     dist = np.mean(dist_t) * 1000\n",
    "    \n",
    "# #     fig = plt.figure()\n",
    "# #     ax = Axes3D(fig)\n",
    "# #     ax.scatter(modelV[:,0], modelV[:, 1], modelV[:, 2], 'b.')\n",
    "# #     ax.scatter(targetV[t_idx,0], targetV[t_idx, 1], targetV[t_idx, 2], 'r.')\n",
    "# #     plt.show()\n",
    "    \n",
    "# #     plt.figure()\n",
    "# #     plt.scatter(modelV[m_idx,0], modelV[m_idx, 1], c='b')\n",
    "# #     plt.show()\n",
    "    \n",
    "# #     plt.figure()\n",
    "# #     plt.scatter(targetV[t_idx,0], targetV[t_idx, 1], c='r')\n",
    "# #     plt.show()\n",
    "    \n",
    "# #     print np.mean(dist_t)*1000, np.mean(dist_m)*1000, dist\n",
    "#     print dist\n",
    "    \n",
    "#     return dist"
   ]
  },
  {
   "cell_type": "code",
   "execution_count": 10,
   "metadata": {
    "scrolled": true
   },
   "outputs": [],
   "source": [
    "# from scipy.optimize import minimize\n",
    "# import scipy\n",
    "\n",
    "# deg2rad = 1.0 / 180 * math.pi\n",
    "# model.pose[48:60] = np.multiply(deg2rad, [-12, 2, -69, -12,-2, 69, 16, -18, 4, 16, 18, -4])\n",
    "# model.pose[3:18] = np.multiply(deg2rad, [1, 0, 9, 1, 0, -8, 4, 4, 0, -3, -2, -2, -3, 2, 2])\n",
    "\n",
    "# # bnds = ( (-20*deg2rad, -5*deg2rad), (-5*deg2rad,  5*deg2rad), (-90*deg2rad, -30*deg2rad), \n",
    "# #         (-20*deg2rad, -5*deg2rad), (-5*deg2rad,  5*deg2rad), (30*deg2rad,   90*deg2rad),\n",
    "# #         (5*deg2rad,   30*deg2rad), (-30*deg2rad,-5*deg2rad), (0*deg2rad,    10*deg2rad),  \n",
    "# #         (5*deg2rad,   30*deg2rad), (5*deg2rad,  30*deg2rad), (-10*deg2rad,   0*deg2rad),  \n",
    "# #         (-5*deg2rad,   5*deg2rad), (-5*deg2rad,  5*deg2rad), (0*deg2rad,    15*deg2rad), \n",
    "# #         (-5*deg2rad,   5*deg2rad), (-5*deg2rad,  5*deg2rad), (-15*deg2rad,   0*deg2rad),\n",
    "# #         (0*deg2rad,   10*deg2rad), (0*deg2rad,  10*deg2rad), (-5*deg2rad,    5*deg2rad),\n",
    "# #         (-10*deg2rad,  0*deg2rad), (-10*deg2rad, 0*deg2rad), (-10*deg2rad,   0*deg2rad), \n",
    "# #         (-10*deg2rad,  0*deg2rad), (0*deg2rad,  10*deg2rad), (0*deg2rad,    10*deg2rad),)\n",
    "\n",
    "# bnds = ((-3, 3), (-3, 3), (-5, 5), (-5, 5), (-5, 5), (-5, 5), (-5, 5), (-5, 5), (-5, 5), (-5, 5))\n",
    "\n",
    "# # res = minimize(minDist, init_betas, method='L-BFGS-B', bounds=bnds, options={'gtol': 1e-3, 'disp': True})\n",
    "\n",
    "# # res = minimize(minDist, init_betas, method='Nelder-Mead', options={'disp': True}) # no bnds, bad\n",
    "\n",
    "# # res = minimize(minDist, init_betas, method='Powell', options={'disp': True}) # no bnds, very bad\n",
    "\n",
    "# res = minimize(minDist, init_betas, method='CG', options={'gtol': 1e-3, 'disp': True}) # no bnds constrains\n",
    "\n",
    "# # res = minimize(minDist, init_betas, method='BFGS', bounds=bnds, options={'gtol': 1e-3, 'disp': True})\n",
    "# # res = minimize(minDist, init_betas, method='TNC', bounds=bnds, options={'gtol': 1e-3, 'disp': True})\n",
    "# # res = minimize(minDist, init_betas, method='COBYLA', bounds=bnds, options={'gtol': 1e-3, 'disp': True})\n",
    "# # res = minimize(minDist, init_betas, method='SLSQP', bounds=bnds, options={'gtol': 1e-3, 'disp': True})\n",
    "# # res = minimize(minDist, init_betas, method='trust-constr', bounds=bnds, options={'gtol': 1e-3, 'disp': True})\n",
    "# # res = minimize(minDist, init_betas, method='dogleg', bounds=bnds, options={'gtol': 1e-3, 'disp': True})\n",
    "# # res = minimize(minDist, init_betas, method='trust-ncg', bounds=bnds, options={'gtol': 1e-3, 'disp': True})\n",
    "# # res = minimize(minDist, init_betas, method='trust-exact', bounds=bnds, options={'gtol': 1e-3, 'disp': True})\n",
    "# # res = minimize(minDist, init_betas, method='trust-krylov', bounds=bnds, options={'gtol': 1e-3, 'disp': True})\n",
    "\n",
    "# # res = minimize(minDist, init_param, method='L-BFGS-B', bounds=bnds, options={'gtol': 1e-5, 'disp': True})\n",
    "# # x, f, d = scipy.optimize.fmin_l_bfgs_b(minDist, init_param, bounds=bnds, pgtol=1e-5)\n",
    "# print res"
   ]
  },
  {
   "cell_type": "code",
   "execution_count": 11,
   "metadata": {},
   "outputs": [],
   "source": [
    "# # optimal_beta = res.x[72:]\n",
    "# # optimal_pose = res.x[:72]\n",
    "# optimal_beta = res.x\n",
    "# print optimal_beta"
   ]
  },
  {
   "cell_type": "code",
   "execution_count": 12,
   "metadata": {},
   "outputs": [],
   "source": [
    "# # model.pose[:] = np.zeros(72)\n",
    "# # model.betas[:] = np.zeros(10)\n",
    "\n",
    "# deg2rad = 1.0 / 180 * math.pi\n",
    "# model.pose[48:60] = np.multiply(deg2rad, [-12, 2, -69, -12,-2, 69, 16, -18, 4, 16, 18, -4])\n",
    "# model.pose[3:18] = np.multiply(deg2rad, [1, 0, 9, 1, 0, -8, 4, 4, 0, -3, -2, -2, -3, 2, 2])\n",
    "# # model.pose[:] = optimal_pose\n",
    "# model.betas[:] = optimal_beta\n",
    "\n",
    "# modelV = model.r - np.mean(model.r, 0)\n",
    "# # save\n",
    "# with open( 'CG-optimized_mesh.obj', 'w') as fp:\n",
    "#     for v in modelV: # [m]\n",
    "#         fp.write( 'v %f %f %f\\n' % ( v[0], v[1], v[2]) )\n",
    "#     for f in model.f+1: # Faces are 1-based, not 0-based in obj files\n",
    "#         fp.write( 'f %d %d %d\\n' %  (f[0], f[1], f[2]) )\n",
    "        \n",
    "# print 'done'"
   ]
  },
  {
   "cell_type": "code",
   "execution_count": 13,
   "metadata": {},
   "outputs": [],
   "source": [
    "# # save\n",
    "# with open( outmesh_path, 'w') as fp:\n",
    "#     for v in model.r: # [m]\n",
    "#         fp.write( 'v %f %f %f\\n' % ( v[0], v[1], v[2]) )\n",
    "#     for f in model.f+1: # Faces are 1-based, not 0-based in obj files\n",
    "#         fp.write( 'f %d %d %d\\n' %  (f[0], f[1], f[2]) )\n",
    "        \n",
    "# print 'done'"
   ]
  },
  {
   "cell_type": "code",
   "execution_count": 14,
   "metadata": {},
   "outputs": [],
   "source": [
    "# T0 = model.r\n",
    "# F = model.f + 1 # Faces are 1-based, not 0-based in obj files\n",
    "\n",
    "# # initial pose \n",
    "# theta = model.pose\n",
    "# deg2rad = 1.0 / 180 * math.pi\n",
    "# theta[48:60] = np.multiply(deg2rad, [-12, 2, -69, -12,-2, 69, 16, -18, 4, 16, 18, -4])\n",
    "# theta[3:18] = np.multiply(deg2rad, [1, 0, 9, 1, 0, -8, 4, 4, 0, -3, -2, -2, -3, 2, 2])\n",
    "\n",
    "# J = model.J_regressor # J, the regression matrix, to estimate the joint locations, 24*6890\n",
    "# W = model.weights     # W, the blend weight matrix , representing how much the rotation of part k effects the vertex i\n",
    "\n",
    "# Sn = model.shapedirs  # Sn represents orthonormal principle components of shape displacements, 6890*3*10\n",
    "# Bp = model.posedirs   # pose displacements, 6890*3*207 \n",
    "# # G, a function of theta and J(beta)"
   ]
  }
 ],
 "metadata": {
  "kernelspec": {
   "display_name": "Python 2",
   "language": "python",
   "name": "python2"
  },
  "language_info": {
   "codemirror_mode": {
    "name": "ipython",
    "version": 2
   },
   "file_extension": ".py",
   "mimetype": "text/x-python",
   "name": "python",
   "nbconvert_exporter": "python",
   "pygments_lexer": "ipython2",
   "version": "2.7.12"
  }
 },
 "nbformat": 4,
 "nbformat_minor": 2
}
